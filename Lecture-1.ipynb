{
 "cells": [
  {
   "metadata": {},
   "cell_type": "markdown",
   "source": "## Importing Libraries ",
   "id": "7b66b96246077ce8"
  },
  {
   "metadata": {
    "ExecuteTime": {
     "end_time": "2024-10-21T08:16:08.218973Z",
     "start_time": "2024-10-21T08:16:08.213274Z"
    }
   },
   "cell_type": "code",
   "source": [
    "import numpy as np\n",
    "import pandas as pd\n",
    "import matplotlib.pyplot as plt\n",
    "from sklearn.preprocessing import OneHotEncoder"
   ],
   "id": "3c85212f72330cee",
   "outputs": [],
   "execution_count": 35
  },
  {
   "metadata": {},
   "cell_type": "markdown",
   "source": "## Importing Data Set",
   "id": "d52654345b1fff17"
  },
  {
   "metadata": {
    "ExecuteTime": {
     "end_time": "2024-10-21T08:16:08.236954Z",
     "start_time": "2024-10-21T08:16:08.226510Z"
    }
   },
   "cell_type": "code",
   "source": [
    "data_set = pd.read_csv(\"Data.csv\")\n",
    "X = data_set.iloc[:, :-1].values\n",
    "Y = data_set.iloc[:, -1].values\n",
    "\n",
    "\n"
   ],
   "id": "28d357cb15f75562",
   "outputs": [],
   "execution_count": 36
  },
  {
   "metadata": {},
   "cell_type": "markdown",
   "source": "## Taking care of missing data",
   "id": "332119e0187618c0"
  },
  {
   "metadata": {
    "ExecuteTime": {
     "end_time": "2024-10-21T08:16:08.292751Z",
     "start_time": "2024-10-21T08:16:08.283915Z"
    }
   },
   "cell_type": "code",
   "source": [
    "from sklearn.impute import SimpleImputer\n",
    "\n",
    "imputer = SimpleImputer(missing_values=np.nan, strategy='mean')\n",
    "\n",
    "imputer.fit(X[:, 1:3])\n",
    "\n",
    "X[:, 1:3] = imputer.transform(X[:, 1:3])\n",
    "\n",
    "print(X)\n",
    "\n",
    "\n",
    "\n"
   ],
   "id": "356ee6d0d898f58a",
   "outputs": [
    {
     "name": "stdout",
     "output_type": "stream",
     "text": [
      "[['France' 44.0 72000.0]\n",
      " ['Spain' 27.0 48000.0]\n",
      " ['Germany' 30.0 54000.0]\n",
      " ['Spain' 38.0 61000.0]\n",
      " ['Germany' 40.0 63777.77777777778]\n",
      " ['France' 35.0 58000.0]\n",
      " ['Spain' 38.77777777777778 52000.0]\n",
      " ['France' 48.0 79000.0]\n",
      " ['Germany' 50.0 83000.0]\n",
      " ['France' 37.0 67000.0]]\n"
     ]
    }
   ],
   "execution_count": 37
  },
  {
   "metadata": {},
   "cell_type": "markdown",
   "source": "## Encoding Categorical Data",
   "id": "b81c6a8e31511bdf"
  },
  {
   "metadata": {
    "ExecuteTime": {
     "end_time": "2024-10-21T08:16:08.356215Z",
     "start_time": "2024-10-21T08:16:08.347453Z"
    }
   },
   "cell_type": "code",
   "source": [
    "from sklearn.compose import ColumnTransformer\n",
    "\n",
    "\n",
    "ct = ColumnTransformer(transformers=[('encoder', OneHotEncoder(), [0])], remainder='passthrough')\n",
    "\n",
    "\n",
    "X = np.array(ct.fit_transform(X))\n",
    "\n",
    "print(X)"
   ],
   "id": "ba9a8a6ab968a7cf",
   "outputs": [
    {
     "name": "stdout",
     "output_type": "stream",
     "text": [
      "[[1.0 0.0 0.0 44.0 72000.0]\n",
      " [0.0 0.0 1.0 27.0 48000.0]\n",
      " [0.0 1.0 0.0 30.0 54000.0]\n",
      " [0.0 0.0 1.0 38.0 61000.0]\n",
      " [0.0 1.0 0.0 40.0 63777.77777777778]\n",
      " [1.0 0.0 0.0 35.0 58000.0]\n",
      " [0.0 0.0 1.0 38.77777777777778 52000.0]\n",
      " [1.0 0.0 0.0 48.0 79000.0]\n",
      " [0.0 1.0 0.0 50.0 83000.0]\n",
      " [1.0 0.0 0.0 37.0 67000.0]]\n"
     ]
    }
   ],
   "execution_count": 38
  },
  {
   "metadata": {},
   "cell_type": "markdown",
   "source": "## Encoding Independent Variable",
   "id": "50146ff96f47ae5"
  },
  {
   "metadata": {
    "ExecuteTime": {
     "end_time": "2024-10-21T08:16:08.574587Z",
     "start_time": "2024-10-21T08:16:08.566789Z"
    }
   },
   "cell_type": "code",
   "source": [
    "from sklearn.preprocessing import LabelEncoder\n",
    "\n",
    "\n",
    "label_encoder = LabelEncoder()\n",
    "\n",
    "\n",
    "Y = label_encoder.fit_transform(Y)\n",
    "\n",
    "print(Y)"
   ],
   "id": "bfbfc077dc9eb45c",
   "outputs": [
    {
     "name": "stdout",
     "output_type": "stream",
     "text": [
      "[0 1 0 0 1 1 0 1 0 1]\n"
     ]
    }
   ],
   "execution_count": 39
  },
  {
   "metadata": {},
   "cell_type": "markdown",
   "source": "## Splitting the dataset into the Training set and Test set",
   "id": "87fdf0ed2b11af11"
  },
  {
   "metadata": {
    "ExecuteTime": {
     "end_time": "2024-10-21T08:16:25.037351Z",
     "start_time": "2024-10-21T08:16:25.030907Z"
    }
   },
   "cell_type": "code",
   "source": [
    "from sklearn.model_selection import train_test_split\n",
    "\n",
    "\n",
    "X_train, X_test, Y_train, Y_test  = train_test_split(X, Y, test_size=0.2)\n",
    "\n",
    "print(X_train)\n",
    "\n",
    "print(Y_train)\n"
   ],
   "id": "18f9c7f6eab251d3",
   "outputs": [
    {
     "name": "stdout",
     "output_type": "stream",
     "text": [
      "[[0.0 1.0 0.0 40.0 63777.77777777778]\n",
      " [1.0 0.0 0.0 44.0 72000.0]\n",
      " [0.0 1.0 0.0 50.0 83000.0]\n",
      " [0.0 0.0 1.0 38.77777777777778 52000.0]\n",
      " [0.0 0.0 1.0 27.0 48000.0]\n",
      " [1.0 0.0 0.0 37.0 67000.0]\n",
      " [1.0 0.0 0.0 48.0 79000.0]\n",
      " [0.0 0.0 1.0 38.0 61000.0]]\n",
      "[1 0 0 0 1 1 1 0]\n"
     ]
    }
   ],
   "execution_count": 41
  }
 ],
 "metadata": {
  "kernelspec": {
   "display_name": "Python 3",
   "language": "python",
   "name": "python3"
  },
  "language_info": {
   "codemirror_mode": {
    "name": "ipython",
    "version": 2
   },
   "file_extension": ".py",
   "mimetype": "text/x-python",
   "name": "python",
   "nbconvert_exporter": "python",
   "pygments_lexer": "ipython2",
   "version": "2.7.6"
  }
 },
 "nbformat": 4,
 "nbformat_minor": 5
}
